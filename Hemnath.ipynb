{
 "cells": [
  {
   "cell_type": "code",
   "execution_count": 1,
   "id": "b59a14d0",
   "metadata": {},
   "outputs": [],
   "source": [
    "# utilities\n",
    "import re\n",
    "import numpy as np\n",
    "import pandas as pd\n",
    "# plotting\n",
    "import seaborn as sns\n",
    "from wordcloud import WordCloud\n",
    "import matplotlib.pyplot as plt\n",
    "# nltk\n",
    "from nltk.stem import WordNetLemmatizer\n",
    "# sklearn\n",
    "from sklearn.svm import LinearSVC\n",
    "from sklearn.naive_bayes import BernoulliNB\n",
    "from sklearn.linear_model import LogisticRegression\n",
    "from sklearn.model_selection import train_test_split\n",
    "from sklearn.feature_extraction.text import TfidfVectorizer\n",
    "from sklearn.metrics import confusion_matrix, classification_report"
   ]
  },
  {
   "cell_type": "code",
   "execution_count": 2,
   "id": "f6ec3227",
   "metadata": {},
   "outputs": [
    {
     "data": {
      "text/html": [
       "<div>\n",
       "<style scoped>\n",
       "    .dataframe tbody tr th:only-of-type {\n",
       "        vertical-align: middle;\n",
       "    }\n",
       "\n",
       "    .dataframe tbody tr th {\n",
       "        vertical-align: top;\n",
       "    }\n",
       "\n",
       "    .dataframe thead th {\n",
       "        text-align: right;\n",
       "    }\n",
       "</style>\n",
       "<table border=\"1\" class=\"dataframe\">\n",
       "  <thead>\n",
       "    <tr style=\"text-align: right;\">\n",
       "      <th></th>\n",
       "      <th>CONTENT_TYPE</th>\n",
       "      <th>DATE</th>\n",
       "      <th>TIMESTAMP</th>\n",
       "      <th>BRAND</th>\n",
       "      <th>IMPACT</th>\n",
       "      <th>ENGAGEMENT</th>\n",
       "      <th>CONTENT_HASHTAGS</th>\n",
       "      <th>CHANNEL_INFO_CHANNEL</th>\n",
       "      <th>CHANNEL_INFO_TYPE</th>\n",
       "      <th>CONTENT_TEXT</th>\n",
       "      <th>CONTENT_LINK_TITLE</th>\n",
       "      <th>CONTENT_RETWEET_COUNT</th>\n",
       "      <th>CONTENT_FAVORITE_COUNT</th>\n",
       "      <th>GAMERESULTS</th>\n",
       "    </tr>\n",
       "  </thead>\n",
       "  <tbody>\n",
       "    <tr>\n",
       "      <th>0</th>\n",
       "      <td>tweet</td>\n",
       "      <td>1/31/22 0:00</td>\n",
       "      <td>1/31/22 9:51</td>\n",
       "      <td>172721</td>\n",
       "      <td>0.4970</td>\n",
       "      <td>151</td>\n",
       "      <td>NaN</td>\n",
       "      <td>twitter</td>\n",
       "      <td>photo</td>\n",
       "      <td>Lets close this trip out on a high.\\n\\n¡: 7:...</td>\n",
       "      <td>NaN</td>\n",
       "      <td>10</td>\n",
       "      <td>141</td>\n",
       "      <td>LOSS</td>\n",
       "    </tr>\n",
       "    <tr>\n",
       "      <th>1</th>\n",
       "      <td>tweet</td>\n",
       "      <td>1/31/22 0:00</td>\n",
       "      <td>1/31/22 10:18</td>\n",
       "      <td>172721</td>\n",
       "      <td>1.8650</td>\n",
       "      <td>632</td>\n",
       "      <td>NEWS</td>\n",
       "      <td>twitter</td>\n",
       "      <td>link</td>\n",
       "      <td>#NEWS: Due to the recent passing of his father...</td>\n",
       "      <td>Ruff to Miss Two Games with Passing of his Fat...</td>\n",
       "      <td>61</td>\n",
       "      <td>571</td>\n",
       "      <td>LOSS</td>\n",
       "    </tr>\n",
       "    <tr>\n",
       "      <th>2</th>\n",
       "      <td>tweet</td>\n",
       "      <td>1/31/22 0:00</td>\n",
       "      <td>1/31/22 12:07</td>\n",
       "      <td>172721</td>\n",
       "      <td>0.6897</td>\n",
       "      <td>231</td>\n",
       "      <td>NaN</td>\n",
       "      <td>twitter</td>\n",
       "      <td>photo</td>\n",
       "      <td>Putting in work up north. https://t.co/yoYZGN3xeO</td>\n",
       "      <td>NaN</td>\n",
       "      <td>10</td>\n",
       "      <td>221</td>\n",
       "      <td>LOSS</td>\n",
       "    </tr>\n",
       "    <tr>\n",
       "      <th>3</th>\n",
       "      <td>tweet</td>\n",
       "      <td>1/31/22 0:00</td>\n",
       "      <td>1/31/22 13:42</td>\n",
       "      <td>172721</td>\n",
       "      <td>0.1824</td>\n",
       "      <td>61</td>\n",
       "      <td>NaN</td>\n",
       "      <td>twitter</td>\n",
       "      <td>photo</td>\n",
       "      <td> The Transition Game\\n After a Year and a Ha...</td>\n",
       "      <td>NaN</td>\n",
       "      <td>4</td>\n",
       "      <td>57</td>\n",
       "      <td>LOSS</td>\n",
       "    </tr>\n",
       "    <tr>\n",
       "      <th>4</th>\n",
       "      <td>tweet</td>\n",
       "      <td>1/31/22 0:00</td>\n",
       "      <td>1/31/22 9:00</td>\n",
       "      <td>172721</td>\n",
       "      <td>0.0132</td>\n",
       "      <td>4</td>\n",
       "      <td>NaN</td>\n",
       "      <td>twitter</td>\n",
       "      <td>photo</td>\n",
       "      <td>Lets close this trip out on a high.\\n\\n¡: 7 ...</td>\n",
       "      <td>NaN</td>\n",
       "      <td>0</td>\n",
       "      <td>4</td>\n",
       "      <td>LOSS</td>\n",
       "    </tr>\n",
       "  </tbody>\n",
       "</table>\n",
       "</div>"
      ],
      "text/plain": [
       "  CONTENT_TYPE          DATE      TIMESTAMP   BRAND  IMPACT  ENGAGEMENT  \\\n",
       "0        tweet  1/31/22 0:00   1/31/22 9:51  172721  0.4970         151   \n",
       "1        tweet  1/31/22 0:00  1/31/22 10:18  172721  1.8650         632   \n",
       "2        tweet  1/31/22 0:00  1/31/22 12:07  172721  0.6897         231   \n",
       "3        tweet  1/31/22 0:00  1/31/22 13:42  172721  0.1824          61   \n",
       "4        tweet  1/31/22 0:00   1/31/22 9:00  172721  0.0132           4   \n",
       "\n",
       "  CONTENT_HASHTAGS CHANNEL_INFO_CHANNEL CHANNEL_INFO_TYPE  \\\n",
       "0              NaN              twitter             photo   \n",
       "1             NEWS              twitter              link   \n",
       "2              NaN              twitter             photo   \n",
       "3              NaN              twitter             photo   \n",
       "4              NaN              twitter             photo   \n",
       "\n",
       "                                        CONTENT_TEXT  \\\n",
       "0  Lets close this trip out on a high.\\n\\n¡: 7:...   \n",
       "1  #NEWS: Due to the recent passing of his father...   \n",
       "2  Putting in work up north. https://t.co/yoYZGN3xeO   \n",
       "3   The Transition Game\\n After a Year and a Ha...   \n",
       "4  Lets close this trip out on a high.\\n\\n¡: 7 ...   \n",
       "\n",
       "                                  CONTENT_LINK_TITLE  CONTENT_RETWEET_COUNT  \\\n",
       "0                                                NaN                     10   \n",
       "1  Ruff to Miss Two Games with Passing of his Fat...                     61   \n",
       "2                                                NaN                     10   \n",
       "3                                                NaN                      4   \n",
       "4                                                NaN                      0   \n",
       "\n",
       "   CONTENT_FAVORITE_COUNT GAMERESULTS  \n",
       "0                     141        LOSS  \n",
       "1                     571        LOSS  \n",
       "2                     221        LOSS  \n",
       "3                      57        LOSS  \n",
       "4                       4        LOSS  "
      ]
     },
     "execution_count": 2,
     "metadata": {},
     "output_type": "execute_result"
    }
   ],
   "source": [
    "# Importing the dataset\n",
    "DATASET_COLUMNS=['target','ids','date','flag','user','text']\n",
    "DATASET_ENCODING = \"ISO-8859-1\"\n",
    "df = pd.read_csv('Project_Data.csv', encoding=DATASET_ENCODING)\n",
    "df.head(5)"
   ]
  },
  {
   "cell_type": "code",
   "execution_count": 3,
   "id": "8b3295a7",
   "metadata": {},
   "outputs": [
    {
     "name": "stdout",
     "output_type": "stream",
     "text": [
      "<class 'pandas.core.frame.DataFrame'>\n",
      "RangeIndex: 17270 entries, 0 to 17269\n",
      "Data columns (total 14 columns):\n",
      " #   Column                  Non-Null Count  Dtype  \n",
      "---  ------                  --------------  -----  \n",
      " 0   CONTENT_TYPE            17270 non-null  object \n",
      " 1   DATE                    17270 non-null  object \n",
      " 2   TIMESTAMP               17270 non-null  object \n",
      " 3   BRAND                   17270 non-null  int64  \n",
      " 4   IMPACT                  17270 non-null  float64\n",
      " 5   ENGAGEMENT              17270 non-null  int64  \n",
      " 6   CONTENT_HASHTAGS        10174 non-null  object \n",
      " 7   CHANNEL_INFO_CHANNEL    17270 non-null  object \n",
      " 8   CHANNEL_INFO_TYPE       17270 non-null  object \n",
      " 9   CONTENT_TEXT            15903 non-null  object \n",
      " 10  CONTENT_LINK_TITLE      4380 non-null   object \n",
      " 11  CONTENT_RETWEET_COUNT   17270 non-null  int64  \n",
      " 12  CONTENT_FAVORITE_COUNT  17270 non-null  int64  \n",
      " 13  GAMERESULTS             17270 non-null  object \n",
      "dtypes: float64(1), int64(4), object(9)\n",
      "memory usage: 1.8+ MB\n"
     ]
    }
   ],
   "source": [
    "df.info()"
   ]
  },
  {
   "cell_type": "code",
   "execution_count": 4,
   "id": "2d0b409d",
   "metadata": {},
   "outputs": [
    {
     "data": {
      "text/plain": [
       "CONTENT_TYPE               object\n",
       "DATE                       object\n",
       "TIMESTAMP                  object\n",
       "BRAND                       int64\n",
       "IMPACT                    float64\n",
       "ENGAGEMENT                  int64\n",
       "CONTENT_HASHTAGS           object\n",
       "CHANNEL_INFO_CHANNEL       object\n",
       "CHANNEL_INFO_TYPE          object\n",
       "CONTENT_TEXT               object\n",
       "CONTENT_LINK_TITLE         object\n",
       "CONTENT_RETWEET_COUNT       int64\n",
       "CONTENT_FAVORITE_COUNT      int64\n",
       "GAMERESULTS                object\n",
       "dtype: object"
      ]
     },
     "execution_count": 4,
     "metadata": {},
     "output_type": "execute_result"
    }
   ],
   "source": [
    "df.dtypes"
   ]
  },
  {
   "cell_type": "code",
   "execution_count": 5,
   "id": "c5c69a80",
   "metadata": {},
   "outputs": [],
   "source": [
    "df['CONTENT_TEXT']=df['CONTENT_TEXT'].astype(str).apply(lambda x: x.encode('ascii', 'ignore').decode('ascii'))\n"
   ]
  },
  {
   "cell_type": "code",
   "execution_count": 6,
   "id": "2dbb2168",
   "metadata": {},
   "outputs": [],
   "source": [
    "df=df.dropna(subset=['CONTENT_TEXT'])"
   ]
  },
  {
   "cell_type": "code",
   "execution_count": 7,
   "id": "d29cac01",
   "metadata": {},
   "outputs": [],
   "source": [
    "text=[]\n",
    "for i in range(df.shape[0]):\n",
    "    s=re.sub('https?://[A-Za-z0-9./]+','',df['CONTENT_TEXT'][i])\n",
    "    text.append(s)"
   ]
  },
  {
   "cell_type": "code",
   "execution_count": 8,
   "id": "56346b3b",
   "metadata": {},
   "outputs": [],
   "source": [
    "df['final_text']=text"
   ]
  },
  {
   "cell_type": "code",
   "execution_count": 9,
   "id": "90e2367f",
   "metadata": {},
   "outputs": [
    {
     "data": {
      "text/plain": [
       "CONTENT_TYPE                  0\n",
       "DATE                          0\n",
       "TIMESTAMP                     0\n",
       "BRAND                         0\n",
       "IMPACT                        0\n",
       "ENGAGEMENT                    0\n",
       "CONTENT_HASHTAGS           7096\n",
       "CHANNEL_INFO_CHANNEL          0\n",
       "CHANNEL_INFO_TYPE             0\n",
       "CONTENT_TEXT                  0\n",
       "CONTENT_LINK_TITLE        12890\n",
       "CONTENT_RETWEET_COUNT         0\n",
       "CONTENT_FAVORITE_COUNT        0\n",
       "GAMERESULTS                   0\n",
       "final_text                    0\n",
       "dtype: int64"
      ]
     },
     "execution_count": 9,
     "metadata": {},
     "output_type": "execute_result"
    }
   ],
   "source": [
    "df.isna().sum()"
   ]
  },
  {
   "cell_type": "code",
   "execution_count": 10,
   "id": "20061c5b",
   "metadata": {},
   "outputs": [],
   "source": [
    "df=df.dropna(subset=['CONTENT_TEXT'])"
   ]
  },
  {
   "cell_type": "code",
   "execution_count": 11,
   "id": "8aab0451",
   "metadata": {},
   "outputs": [
    {
     "name": "stdout",
     "output_type": "stream",
     "text": [
      "Count of columns in the data is:   15\n",
      "Count of rows in the data is:   17270\n"
     ]
    }
   ],
   "source": [
    "print('Count of columns in the data is:  ', len(df.columns))\n",
    "print('Count of rows in the data is:  ', len(df))"
   ]
  },
  {
   "cell_type": "code",
   "execution_count": 12,
   "id": "e3bafe1f",
   "metadata": {},
   "outputs": [
    {
     "data": {
      "text/plain": [
       "3"
      ]
     },
     "execution_count": 12,
     "metadata": {},
     "output_type": "execute_result"
    }
   ],
   "source": [
    "df['GAMERESULTS'].nunique()"
   ]
  },
  {
   "cell_type": "code",
   "execution_count": 13,
   "id": "470cb048",
   "metadata": {},
   "outputs": [
    {
     "data": {
      "text/plain": [
       "GAMERESULTS\n",
       "LOSS        3370\n",
       "NO GAME    11640\n",
       "WON         2260\n",
       "Name: CONTENT_TYPE, dtype: int64"
      ]
     },
     "execution_count": 13,
     "metadata": {},
     "output_type": "execute_result"
    }
   ],
   "source": [
    "df.groupby('GAMERESULTS').count()['CONTENT_TYPE']"
   ]
  },
  {
   "cell_type": "code",
   "execution_count": 14,
   "id": "f5d313b7",
   "metadata": {},
   "outputs": [
    {
     "data": {
      "text/plain": [
       "<AxesSubplot:title={'center':'Distribution of data'}, xlabel='GAMERESULTS'>"
      ]
     },
     "execution_count": 14,
     "metadata": {},
     "output_type": "execute_result"
    },
    {
     "data": {
      "image/png": "[encoded data removed]",
      "text/plain": [
       "<Figure size 432x288 with 1 Axes>"
      ]
     },
     "metadata": {
      "needs_background": "light"
     },
     "output_type": "display_data"
    }
   ],
   "source": [
    "df.groupby('GAMERESULTS')['CONTENT_TYPE'].count().plot(kind='bar', title='Distribution of data')"
   ]
  },
  {
   "cell_type": "code",
   "execution_count": 15,
   "id": "34d0bc72",
   "metadata": {},
   "outputs": [
    {
     "data": {
      "text/plain": [
       "array([0, 1, 2])"
      ]
     },
     "execution_count": 15,
     "metadata": {},
     "output_type": "execute_result"
    }
   ],
   "source": [
    "data=df.copy()\n",
    "from sklearn import preprocessing\n",
    " \n",
    "# label_encoder object knows how to understand word labels.\n",
    "label_encoder = preprocessing.LabelEncoder()\n",
    "# Encode labels in column 'species'.\n",
    "data['GAMERESULTS']= label_encoder.fit_transform(data['GAMERESULTS']) \n",
    "data['GAMERESULTS'].unique()\n"
   ]
  },
  {
   "cell_type": "code",
   "execution_count": 16,
   "id": "5f4f7dbc",
   "metadata": {},
   "outputs": [],
   "source": [
    "stopwordlist = ['a', 'about', 'above', 'after', 'again', 'ain', 'all', 'am', 'an',\n",
    "             'and','any','are', 'as', 'at', 'be', 'because', 'been', 'before',\n",
    "             'being', 'below', 'between','both', 'by', 'can', 'd', 'did', 'do',\n",
    "             'does', 'doing', 'down', 'during', 'each','few', 'for', 'from',\n",
    "             'further', 'had', 'has', 'have', 'having', 'he', 'her', 'here',\n",
    "             'hers', 'herself', 'him', 'himself', 'his', 'how', 'i', 'if', 'in',\n",
    "             'into','is', 'it', 'its', 'itself', 'just', 'll', 'm', 'ma',\n",
    "             'me', 'more', 'most','my', 'myself', 'now', 'o', 'of', 'on', 'once',\n",
    "             'only', 'or', 'other', 'our', 'ours','ourselves', 'out', 'own', 're','s', 'same', \n",
    "            'she', \"shes\", 'should', \"shouldve\",'so', 'some', 'such',\n",
    "             't', 'than', 'that', \"thatll\", 'the', 'their', 'theirs', 'them',\n",
    "             'themselves', 'then', 'there', 'these', 'they', 'this', 'those',\n",
    "             'through', 'to', 'too','under', 'until', 'up', 've', 'very', 'was',\n",
    "             'we', 'were', 'what', 'when', 'where','which','while', 'who', 'whom',\n",
    "             'why', 'will', 'with', 'won', 'y', 'you', \"youd\",\"youll\", \"youre\",\n",
    "             \"youve\", 'your', 'yours', 'yourself', 'yourselves']"
   ]
  },
  {
   "cell_type": "code",
   "execution_count": 17,
   "id": "004fe874",
   "metadata": {},
   "outputs": [
    {
     "data": {
      "text/html": [
       "<div>\n",
       "<style scoped>\n",
       "    .dataframe tbody tr th:only-of-type {\n",
       "        vertical-align: middle;\n",
       "    }\n",
       "\n",
       "    .dataframe tbody tr th {\n",
       "        vertical-align: top;\n",
       "    }\n",
       "\n",
       "    .dataframe thead th {\n",
       "        text-align: right;\n",
       "    }\n",
       "</style>\n",
       "<table border=\"1\" class=\"dataframe\">\n",
       "  <thead>\n",
       "    <tr style=\"text-align: right;\">\n",
       "      <th></th>\n",
       "      <th>CONTENT_TYPE</th>\n",
       "      <th>DATE</th>\n",
       "      <th>TIMESTAMP</th>\n",
       "      <th>BRAND</th>\n",
       "      <th>IMPACT</th>\n",
       "      <th>ENGAGEMENT</th>\n",
       "      <th>CONTENT_HASHTAGS</th>\n",
       "      <th>CHANNEL_INFO_CHANNEL</th>\n",
       "      <th>CHANNEL_INFO_TYPE</th>\n",
       "      <th>CONTENT_TEXT</th>\n",
       "      <th>CONTENT_LINK_TITLE</th>\n",
       "      <th>CONTENT_RETWEET_COUNT</th>\n",
       "      <th>CONTENT_FAVORITE_COUNT</th>\n",
       "      <th>GAMERESULTS</th>\n",
       "      <th>final_text</th>\n",
       "    </tr>\n",
       "  </thead>\n",
       "  <tbody>\n",
       "    <tr>\n",
       "      <th>0</th>\n",
       "      <td>tweet</td>\n",
       "      <td>1/31/22 0:00</td>\n",
       "      <td>1/31/22 9:51</td>\n",
       "      <td>172721</td>\n",
       "      <td>0.4970</td>\n",
       "      <td>151</td>\n",
       "      <td>NaN</td>\n",
       "      <td>twitter</td>\n",
       "      <td>photo</td>\n",
       "      <td>Lets close this trip out on a high.\\n\\n: 7:30 ...</td>\n",
       "      <td>NaN</td>\n",
       "      <td>10</td>\n",
       "      <td>141</td>\n",
       "      <td>0</td>\n",
       "      <td>Lets close this trip out on a high.\\n\\n: 7:30 ...</td>\n",
       "    </tr>\n",
       "    <tr>\n",
       "      <th>1</th>\n",
       "      <td>tweet</td>\n",
       "      <td>1/31/22 0:00</td>\n",
       "      <td>1/31/22 10:18</td>\n",
       "      <td>172721</td>\n",
       "      <td>1.8650</td>\n",
       "      <td>632</td>\n",
       "      <td>NEWS</td>\n",
       "      <td>twitter</td>\n",
       "      <td>link</td>\n",
       "      <td>#NEWS: Due to the recent passing of his father...</td>\n",
       "      <td>Ruff to Miss Two Games with Passing of his Fat...</td>\n",
       "      <td>61</td>\n",
       "      <td>571</td>\n",
       "      <td>0</td>\n",
       "      <td>#NEWS: Due to the recent passing of his father...</td>\n",
       "    </tr>\n",
       "    <tr>\n",
       "      <th>2</th>\n",
       "      <td>tweet</td>\n",
       "      <td>1/31/22 0:00</td>\n",
       "      <td>1/31/22 12:07</td>\n",
       "      <td>172721</td>\n",
       "      <td>0.6897</td>\n",
       "      <td>231</td>\n",
       "      <td>NaN</td>\n",
       "      <td>twitter</td>\n",
       "      <td>photo</td>\n",
       "      <td>Putting in work up north. https://t.co/yoYZGN3xeO</td>\n",
       "      <td>NaN</td>\n",
       "      <td>10</td>\n",
       "      <td>221</td>\n",
       "      <td>0</td>\n",
       "      <td>Putting in work up north.</td>\n",
       "    </tr>\n",
       "    <tr>\n",
       "      <th>3</th>\n",
       "      <td>tweet</td>\n",
       "      <td>1/31/22 0:00</td>\n",
       "      <td>1/31/22 13:42</td>\n",
       "      <td>172721</td>\n",
       "      <td>0.1824</td>\n",
       "      <td>61</td>\n",
       "      <td>NaN</td>\n",
       "      <td>twitter</td>\n",
       "      <td>photo</td>\n",
       "      <td>The Transition Game\\n After a Year and a Half...</td>\n",
       "      <td>NaN</td>\n",
       "      <td>4</td>\n",
       "      <td>57</td>\n",
       "      <td>0</td>\n",
       "      <td>The Transition Game\\n After a Year and a Half...</td>\n",
       "    </tr>\n",
       "    <tr>\n",
       "      <th>4</th>\n",
       "      <td>tweet</td>\n",
       "      <td>1/31/22 0:00</td>\n",
       "      <td>1/31/22 9:00</td>\n",
       "      <td>172721</td>\n",
       "      <td>0.0132</td>\n",
       "      <td>4</td>\n",
       "      <td>NaN</td>\n",
       "      <td>twitter</td>\n",
       "      <td>photo</td>\n",
       "      <td>Lets close this trip out on a high.\\n\\n: 7 PM\\...</td>\n",
       "      <td>NaN</td>\n",
       "      <td>0</td>\n",
       "      <td>4</td>\n",
       "      <td>0</td>\n",
       "      <td>Lets close this trip out on a high.\\n\\n: 7 PM\\...</td>\n",
       "    </tr>\n",
       "  </tbody>\n",
       "</table>\n",
       "</div>"
      ],
      "text/plain": [
       "  CONTENT_TYPE          DATE      TIMESTAMP   BRAND  IMPACT  ENGAGEMENT  \\\n",
       "0        tweet  1/31/22 0:00   1/31/22 9:51  172721  0.4970         151   \n",
       "1        tweet  1/31/22 0:00  1/31/22 10:18  172721  1.8650         632   \n",
       "2        tweet  1/31/22 0:00  1/31/22 12:07  172721  0.6897         231   \n",
       "3        tweet  1/31/22 0:00  1/31/22 13:42  172721  0.1824          61   \n",
       "4        tweet  1/31/22 0:00   1/31/22 9:00  172721  0.0132           4   \n",
       "\n",
       "  CONTENT_HASHTAGS CHANNEL_INFO_CHANNEL CHANNEL_INFO_TYPE  \\\n",
       "0              NaN              twitter             photo   \n",
       "1             NEWS              twitter              link   \n",
       "2              NaN              twitter             photo   \n",
       "3              NaN              twitter             photo   \n",
       "4              NaN              twitter             photo   \n",
       "\n",
       "                                        CONTENT_TEXT  \\\n",
       "0  Lets close this trip out on a high.\\n\\n: 7:30 ...   \n",
       "1  #NEWS: Due to the recent passing of his father...   \n",
       "2  Putting in work up north. https://t.co/yoYZGN3xeO   \n",
       "3   The Transition Game\\n After a Year and a Half...   \n",
       "4  Lets close this trip out on a high.\\n\\n: 7 PM\\...   \n",
       "\n",
       "                                  CONTENT_LINK_TITLE  CONTENT_RETWEET_COUNT  \\\n",
       "0                                                NaN                     10   \n",
       "1  Ruff to Miss Two Games with Passing of his Fat...                     61   \n",
       "2                                                NaN                     10   \n",
       "3                                                NaN                      4   \n",
       "4                                                NaN                      0   \n",
       "\n",
       "   CONTENT_FAVORITE_COUNT  GAMERESULTS  \\\n",
       "0                     141            0   \n",
       "1                     571            0   \n",
       "2                     221            0   \n",
       "3                      57            0   \n",
       "4                       4            0   \n",
       "\n",
       "                                          final_text  \n",
       "0  Lets close this trip out on a high.\\n\\n: 7:30 ...  \n",
       "1  #NEWS: Due to the recent passing of his father...  \n",
       "2                         Putting in work up north.   \n",
       "3   The Transition Game\\n After a Year and a Half...  \n",
       "4  Lets close this trip out on a high.\\n\\n: 7 PM\\...  "
      ]
     },
     "execution_count": 17,
     "metadata": {},
     "output_type": "execute_result"
    }
   ],
   "source": [
    "data.head()"
   ]
  },
  {
   "cell_type": "code",
   "execution_count": 18,
   "id": "02bfedf0",
   "metadata": {},
   "outputs": [
    {
     "data": {
      "text/plain": [
       "15"
      ]
     },
     "execution_count": 18,
     "metadata": {},
     "output_type": "execute_result"
    }
   ],
   "source": [
    "len(data.columns)"
   ]
  },
  {
   "cell_type": "code",
   "execution_count": 19,
   "id": "1ae213ac",
   "metadata": {},
   "outputs": [],
   "source": [
    "X=data.CONTENT_TEXT\n",
    "y=data.GAMERESULTS\n",
    "\n",
    "X_train, X_test, y_train, y_test = train_test_split(X,y,test_size = 0.33, random_state =42)\n"
   ]
  },
  {
   "cell_type": "code",
   "execution_count": 20,
   "id": "ecc05c00",
   "metadata": {},
   "outputs": [],
   "source": [
    "\n",
    "vectoriser = TfidfVectorizer()\n",
    "vectoriser.fit(X_train)\n",
    "# print('No. of feature_words: ', len(vectoriser.get_feature_names()))\n",
    "\n",
    "X_train = vectoriser.transform(X_train)\n",
    "X_test  = vectoriser.transform(X_test)"
   ]
  },
  {
   "cell_type": "code",
   "execution_count": 21,
   "id": "dbf476db",
   "metadata": {},
   "outputs": [
    {
     "data": {
      "text/plain": [
       "<11570x20456 sparse matrix of type '<class 'numpy.float64'>'\n",
       "\twith 189431 stored elements in Compressed Sparse Row format>"
      ]
     },
     "execution_count": 21,
     "metadata": {},
     "output_type": "execute_result"
    }
   ],
   "source": [
    "X_train"
   ]
  },
  {
   "cell_type": "code",
   "execution_count": null,
   "id": "7f9f0067",
   "metadata": {},
   "outputs": [],
   "source": []
  }
 ],
 "metadata": {
  "kernelspec": {
   "display_name": "Python 3 (ipykernel)",
   "language": "python",
   "name": "python3"
  },
  "language_info": {
   "codemirror_mode": {
    "name": "ipython",
    "version": 3
   },
   "file_extension": ".py",
   "mimetype": "text/x-python",
   "name": "python",
   "nbconvert_exporter": "python",
   "pygments_lexer": "ipython3",
   "version": "3.9.7"
  }
 },
 "nbformat": 4,
 "nbformat_minor": 5
}
